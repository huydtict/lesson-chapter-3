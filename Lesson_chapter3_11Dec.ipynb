{
  "nbformat": 4,
  "nbformat_minor": 0,
  "metadata": {
    "colab": {
      "name": "Lesson chapter3 - 11Dec",
      "provenance": []
    },
    "kernelspec": {
      "name": "python3",
      "display_name": "Python 3"
    }
  },
  "cells": [
    {
      "cell_type": "markdown",
      "metadata": {
        "id": "h4Sefes7t4kb",
        "colab_type": "text"
      },
      "source": [
        "Print out the message \"Hello world\" 5 times"
      ]
    },
    {
      "cell_type": "code",
      "metadata": {
        "id": "6wV9_lkAuHXv",
        "colab_type": "code",
        "colab": {
          "base_uri": "https://localhost:8080/",
          "height": 118
        },
        "outputId": "860b4dc7-6ebb-4a14-8233-422f0832d535"
      },
      "source": [
        "counter = 1\n",
        "n = 5\n",
        "while counter <= n:\n",
        "  print(\"Hello world !!!\")\n",
        "  counter = counter + 1\n",
        "print (\"Finish\")"
      ],
      "execution_count": 4,
      "outputs": [
        {
          "output_type": "stream",
          "text": [
            "Hello world !!!\n",
            "Hello world !!!\n",
            "Hello world !!!\n",
            "Hello world !!!\n",
            "Hello world !!!\n",
            "Finish\n"
          ],
          "name": "stdout"
        }
      ]
    },
    {
      "cell_type": "markdown",
      "metadata": {
        "id": "vqPivJwLvFi5",
        "colab_type": "text"
      },
      "source": [
        "Print out the message \"Hello world\" n times"
      ]
    },
    {
      "cell_type": "code",
      "metadata": {
        "id": "D-X25NQ_vJ9e",
        "colab_type": "code",
        "colab": {
          "base_uri": "https://localhost:8080/",
          "height": 151
        },
        "outputId": "73066435-11de-4d1a-d75c-55ff146c4ecf"
      },
      "source": [
        "counter = 1\n",
        "n = int(input(\"Number of iterations: \"))\n",
        "while counter <= n:\n",
        "  print(\"Hello world !!!\")\n",
        "  counter = counter + 1\n",
        "print (\"Finish\")"
      ],
      "execution_count": 10,
      "outputs": [
        {
          "output_type": "stream",
          "text": [
            "Number of iteration: 6\n",
            "Hello world !!!\n",
            "Hello world !!!\n",
            "Hello world !!!\n",
            "Hello world !!!\n",
            "Hello world !!!\n",
            "Hello world !!!\n",
            "Finish\n"
          ],
          "name": "stdout"
        }
      ]
    },
    {
      "cell_type": "markdown",
      "metadata": {
        "id": "1rio3qcDxEDy",
        "colab_type": "text"
      },
      "source": [
        "Can You shorten the above code?"
      ]
    },
    {
      "cell_type": "code",
      "metadata": {
        "id": "E4iNm5tjvpfI",
        "colab_type": "code",
        "colab": {
          "base_uri": "https://localhost:8080/",
          "height": 134
        },
        "outputId": "8f35a40e-4d6e-4c4a-f92a-e9a1d432feab"
      },
      "source": [
        "n = int(input(\"Number of iterations: \"))\n",
        "for counter in range(n):\n",
        "  print(counter, \":\", \"Hello world!!!\")\n",
        "print(\"Finish\")"
      ],
      "execution_count": 7,
      "outputs": [
        {
          "output_type": "stream",
          "text": [
            "Number of iterations: 5\n",
            "0 : Hello world!!!\n",
            "1 : Hello world!!!\n",
            "2 : Hello world!!!\n",
            "3 : Hello world!!!\n",
            "4 : Hello world!!!\n",
            "Finish\n"
          ],
          "name": "stdout"
        }
      ]
    },
    {
      "cell_type": "markdown",
      "metadata": {
        "id": "FBhiCTaTxGiI",
        "colab_type": "text"
      },
      "source": [
        "Assuming that we want to repeat our\n",
        "login scenario until either the user\n",
        "enters correct (u, p) or (s)he decides\n",
        "to escape.\n",
        "![alt text](https://lh3.googleusercontent.com/AsIe1ewmbiam7jVR2Cp88XKD9gG80ynGHsentc_3rKETtTx39n2i1uAEgYgjiVUTp9ThWto2MaX27lojpHkwoesSYTkLp6qqhrcPjMGvZk5cJcpQu3afHL4GwbYphP9XGJ4UHQFV6OnWzWeDdlKKM-O3RxJg65E1FXGEUCjWlKqEVzirNwytaG-7zaL75rlQNPRsa2mNP-wvaKoCt2Y9JEHNuZGQiUNtzhHJ1Vhs54kKCwJ4XIGuksNiWQPE39azcMEY8EvvMzBoqCBJFhLuuglvFO0Fhq4CsCFGvrOmNCGpoX6m10F5sHLKPFfDqz0ex8-pSG4nbDTgjpTJmBhG5Wx1H_7uj0_vcuFoxn9jP1jrii5eQq6sRdVUY-lkR3f7H41c84Giy6lAV621V9T7k9ys2zynmNnwR18hiOz3sBePjqayEd2HLeSh5pXwIJxVd6Nji9rJrfDCijutsEv3g0eRmFfLOKN6htlSKPnCsXeLw2mkv9_62__ez0IRIVGOIp94N159_PHi1vnM4cv2Owf4DB4-B3tvypVyjogGQjdcwci9T9eAIwM2hkjs9vjHCxo9Xar6A_AaKAoNmOPl-5zHyL4BHkKCEOoxaZZgNAMIQ0J5lNaxedS4c9fXu6kE4ogLfjVd6-9taORbWIngZwki-g3PSFs2rruQ6XgX7iE4D1EAV2jf-A=w1258-h943-no)"
      ]
    },
    {
      "cell_type": "code",
      "metadata": {
        "id": "u4ficyyBxIK3",
        "colab_type": "code",
        "colab": {
          "base_uri": "https://localhost:8080/",
          "height": 168
        },
        "outputId": "7c3340c2-86eb-49fc-dc6d-015d90229485"
      },
      "source": [
        "import getpass\n",
        "flag = False\n",
        "while not flag:\n",
        "    u = input(\"Username: \")\n",
        "    p = getpass.getpass(prompt=\"Password: \")\n",
        "    check = flag\n",
        "    if u ==\"peter\" and p == \"12345\":\n",
        "      check = True\n",
        "      print(\"You logged into the system.\")\n",
        "    else:\n",
        "      print(\"Either username or password is wrong.\")\n",
        "      ch = input(\"Do you want to continue? (y/n): \")\n",
        "      if ch == \"N\" or ch == \"n\":\n",
        "        check = True\n",
        "    flag = check\n",
        "print(\"Finished!\")"
      ],
      "execution_count": 16,
      "outputs": [
        {
          "output_type": "stream",
          "text": [
            "Username: peter\n",
            "Password: ··········\n",
            "Either username or password is wrong.\n",
            "Do you want to continue? (y/n): y\n",
            "Username: fffff\n",
            "Password: ··········\n",
            "Either username or password is wrong.\n",
            "Do you want to continue? (y/n): n\n",
            "Finished!\n"
          ],
          "name": "stdout"
        }
      ]
    },
    {
      "cell_type": "markdown",
      "metadata": {
        "id": "rFAc6Sci0N4l",
        "colab_type": "text"
      },
      "source": [
        "Can You shorten the above code?"
      ]
    },
    {
      "cell_type": "code",
      "metadata": {
        "id": "xDnEeJYX0SKo",
        "colab_type": "code",
        "colab": {
          "base_uri": "https://localhost:8080/",
          "height": 151
        },
        "outputId": "0542e12a-622f-43dd-89c3-1d24c4a8b834"
      },
      "source": [
        "import getpass\n",
        "flag = False\n",
        "while not flag:\n",
        "    u = input(\"Username: \")\n",
        "    p = getpass.getpass(prompt=\"Password: \")\n",
        "    flag = u == \"peter\" and p == \"12345\"\n",
        "    if flag:\n",
        "      print(\"You logged into the system.\")\n",
        "    else:\n",
        "      print(\"Either username or password is wrong.\")\n",
        "      ch = input(\"Do you want to continue? (y/n): \")\n",
        "      flag = ch == \"N\" or ch == \"n\"\n",
        "print(\"Finished!\")"
      ],
      "execution_count": 21,
      "outputs": [
        {
          "output_type": "stream",
          "text": [
            "Username: ppete\n",
            "Password: ··········\n",
            "Either username or password is wrong.\n",
            "Do you want to continue? (y/n): y\n",
            "Username: peter\n",
            "Password: ··········\n",
            "You logged into the system.\n",
            "Finished!\n"
          ],
          "name": "stdout"
        }
      ]
    },
    {
      "cell_type": "markdown",
      "metadata": {
        "id": "Mp1NlaYyCQpj",
        "colab_type": "text"
      },
      "source": [
        "Can You shorten the above code?  again !!"
      ]
    },
    {
      "cell_type": "code",
      "metadata": {
        "id": "c1KKPjlACT_D",
        "colab_type": "code",
        "colab": {}
      },
      "source": [
        ""
      ],
      "execution_count": 0,
      "outputs": []
    }
  ]
}